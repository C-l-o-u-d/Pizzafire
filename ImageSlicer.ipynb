{
 "cells": [
  {
   "cell_type": "code",
   "execution_count": 19,
   "metadata": {
    "collapsed": false,
    "scrolled": true
   },
   "outputs": [
    {
     "name": "stdout",
     "output_type": "stream",
     "text": [
      "Num slices (18, 14) Total 252\n",
      "Slicing..\n",
      "Done.\n"
     ]
    }
   ],
   "source": [
    "# on osx yosemite: sudo pip install http://effbot.org/media/downloads/Imaging-1.1.7.tar.gz\n",
    "import Image, ImageDraw\n",
    "import math\n",
    "import os\n",
    "\n",
    "img = Image.open(\"waldo/ww6kc.png\")\n",
    "outdir = \"waldo/ww6kc400\"\n",
    "prefix = \"ww6kc400\"  # prefix for slice filenames (ex. \"prefix_0_0.png\" ) \n",
    "width, height = img.size\n",
    "hopx = 350\n",
    "hopy = 350\n",
    "slicex = 400\n",
    "slicey = 400\n",
    "assert hopx <= slicex, \"x: hop size (%i) should be less than slice size (%i)\" % (hopx, slicex)\n",
    "assert hopy <= slicey, \"y: hop size (%i) should be less than slice size (%i)\" % (hopy, slicey)\n",
    "\n",
    "# 2000 x 1800 --> 2400 x 2200\n",
    "num_slices_x = int(math.ceil((width  - slicex) / hopx)) + 2\n",
    "num_slices_y = int(math.ceil((height - slicey) / hopy)) + 2\n",
    "print \"Num slices\", (num_slices_x, num_slices_y), \"Total\", num_slices_x * num_slices_y \n",
    "\n",
    "#  extend the canvas of the image with white so that hopping slices divide exactly\n",
    "width2  = (num_slices_x-1) * hopx + slicex\n",
    "height2 = (num_slices_y-1) * hopy + slicey\n",
    "\n",
    "\"\"\" debugging\n",
    "print height, hopy, slicey, height2, num_slices_y\n",
    "for y in xrange(0,height2 - slicey + hopy, hopy):\n",
    "    print (y, y+slicey) \n",
    "\"\"\"\n",
    "img2 = img.crop( (0,0,width2, height2) )  \n",
    "draw = ImageDraw.Draw(img2)\n",
    "draw.rectangle( (width,0,width2,height2), fill=\"white\" )\n",
    "draw.rectangle( (0,height,width2,height2), fill=\"white\" )\n",
    "del draw\n",
    "img2.save(\"img2.png\", \"PNG\")\n",
    "\n",
    "# mkdir\n",
    "!mkdir {outdir}\n",
    "\n",
    "# Begin slicing\n",
    "print \"Slicing..\"\n",
    "for x in xrange(0,width2 - slicex + hopx, hopx):\n",
    "    for y in xrange(0,height2 - slicey + hopy, hopy):\n",
    "        bbox = (x, y, x+ slicex, y + slicey)\n",
    "        slice = img2.crop(bbox)\n",
    "        slice.save(os.path.join(outdir, prefix + \"_\" + str(x) + \"_\" + str(y) + \".png\"))\n",
    "print \"Done.\"\n",
    "\n"
   ]
  },
  {
   "cell_type": "code",
   "execution_count": null,
   "metadata": {
    "collapsed": true
   },
   "outputs": [],
   "source": [
    "# Image recombiner "
   ]
  },
  {
   "cell_type": "code",
   "execution_count": 15,
   "metadata": {
    "collapsed": true
   },
   "outputs": [
    {
     "name": "stdout",
     "output_type": "stream",
     "text": [
      "0 0\n",
      "0 1000\n",
      "0 1200\n",
      "0 200\n",
      "0 400\n",
      "0 600\n",
      "0 800\n",
      "1000 0\n",
      "1000 1000\n",
      "1000 1200\n",
      "1000 200\n",
      "1000 400\n",
      "1000 600\n",
      "1000 800\n",
      "1200 0\n",
      "1200 1000\n",
      "1200 1200\n",
      "1200 200\n",
      "1200 400\n",
      "1200 600\n",
      "1200 800\n",
      "1400 0\n",
      "1400 1000\n",
      "1400 1200\n",
      "1400 200\n",
      "1400 400\n",
      "1400 600\n",
      "1400 800\n",
      "1600 0\n",
      "1600 1000\n",
      "1600 1200\n",
      "1600 200\n",
      "1600 400\n",
      "1600 600\n",
      "1600 800\n",
      "200 0\n",
      "200 1000\n",
      "200 1200\n",
      "200 200\n",
      "200 400\n",
      "200 600\n",
      "200 800\n",
      "400 0\n",
      "400 1000\n",
      "400 1200\n",
      "400 200\n",
      "400 400\n",
      "400 600\n",
      "400 800\n",
      "600 0\n",
      "600 1000\n",
      "600 1200\n",
      "600 200\n",
      "600 400\n",
      "600 600\n",
      "600 800\n",
      "800 0\n",
      "800 1000\n",
      "800 1200\n",
      "800 200\n",
      "800 400\n",
      "800 600\n",
      "800 800\n"
     ]
    }
   ],
   "source": [
    "\"\"\"hopx = 200\n",
    "hopy = 200\n",
    "slicex = 400\n",
    "slicey = 400\n",
    "# original image\n",
    "original_img = Image.open(\"waldo/ww2kb95.png\")\n",
    "width, height = original_img.size\n",
    "num_slices_x = int(math.ceil((width  - slicex) / hopx)) + 2\n",
    "\n",
    "imagedir = \"./waldo/ww2kb95/\" # needs trailing / \n",
    "slices = !ls {imagedir}\n",
    "for slice in slices:\n",
    "    # should be named \"somename_0_1.png\" where the 0 and 1 are digits representing top/left coordinates\n",
    "    (_, left, top) = slice.split(\"_\")\n",
    "    top = top.split(\".\")[0]\n",
    "    img = Image.open(imagedir + slice)\n",
    "    \"\"\""
   ]
  },
  {
   "cell_type": "code",
   "execution_count": null,
   "metadata": {
    "collapsed": true
   },
   "outputs": [],
   "source": [
    "# image shrinker\n",
    "img = Image.open(\"waldo/waldostylelarge2.png\")\n",
    "outdir = \"waldo/waldostyle\"\n",
    "prefix = \"ws\"  # prefix for slice filenames (ex. \"w1.png\" ) \n",
    "new_size = (400,400)\n",
    "width, height = img.size\n",
    "for i in xrange(100):\n",
    "    new = resize(new_size, Image.ANTIALIAS)\n",
    "new.save(os.path.join(outdir, prefix + str(i) + \".png\"))\n"
   ]
  },
  {
   "cell_type": "code",
   "execution_count": null,
   "metadata": {
    "collapsed": true
   },
   "outputs": [],
   "source": []
  }
 ],
 "metadata": {
  "kernelspec": {
   "display_name": "Python 2",
   "language": "python",
   "name": "python2"
  },
  "language_info": {
   "codemirror_mode": {
    "name": "ipython",
    "version": 2
   },
   "file_extension": ".py",
   "mimetype": "text/x-python",
   "name": "python",
   "nbconvert_exporter": "python",
   "pygments_lexer": "ipython2",
   "version": "2.7.6"
  }
 },
 "nbformat": 4,
 "nbformat_minor": 0
}
