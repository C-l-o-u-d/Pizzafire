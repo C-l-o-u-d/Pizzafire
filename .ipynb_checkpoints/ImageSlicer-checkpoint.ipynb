{
 "cells": [
  {
   "cell_type": "markdown",
   "metadata": {},
   "source": [
    "## Image Slicer\n",
    "Take a large image and output smaller output slices into a directory"
   ]
  },
  {
   "cell_type": "code",
   "execution_count": 19,
   "metadata": {
    "collapsed": false,
    "scrolled": true
   },
   "outputs": [
    {
     "name": "stdout",
     "output_type": "stream",
     "text": [
      "Num slices (18, 14) Total 252\n",
      "Slicing..\n",
      "Done.\n"
     ]
    }
   ],
   "source": [
    "# on osx yosemite: sudo pip install http://effbot.org/media/downloads/Imaging-1.1.7.tar.gz\n",
    "import Image, ImageDraw\n",
    "import math\n",
    "import os\n",
    "\n",
    "img = Image.open(\"waldo/ww6kc.png\")\n",
    "outdir = \"waldo/ww6kc400\"\n",
    "prefix = \"ww6kc400\"  # prefix for slice filenames (ex. \"prefix_0_0.png\" ) \n",
    "width, height = img.size\n",
    "hopx = 350\n",
    "hopy = 350\n",
    "slicex = 400\n",
    "slicey = 400\n",
    "assert hopx <= slicex, \"x: hop size (%i) should be less than slice size (%i)\" % (hopx, slicex)\n",
    "assert hopy <= slicey, \"y: hop size (%i) should be less than slice size (%i)\" % (hopy, slicey)\n",
    "\n",
    "# 2000 x 1800 --> 2400 x 2200\n",
    "num_slices_x = int(math.ceil((width  - slicex) / hopx)) + 2\n",
    "num_slices_y = int(math.ceil((height - slicey) / hopy)) + 2\n",
    "print \"Num slices\", (num_slices_x, num_slices_y), \"Total\", num_slices_x * num_slices_y \n",
    "\n",
    "#  extend the canvas of the image with white so that hopping slices divide exactly\n",
    "width2  = (num_slices_x-1) * hopx + slicex\n",
    "height2 = (num_slices_y-1) * hopy + slicey\n",
    "\n",
    "\"\"\" debugging\n",
    "print height, hopy, slicey, height2, num_slices_y\n",
    "for y in xrange(0,height2 - slicey + hopy, hopy):\n",
    "    print (y, y+slicey) \n",
    "\"\"\"\n",
    "img2 = img.crop( (0,0,width2, height2) )  \n",
    "draw = ImageDraw.Draw(img2)\n",
    "draw.rectangle( (width,0,width2,height2), fill=\"white\" )\n",
    "draw.rectangle( (0,height,width2,height2), fill=\"white\" )\n",
    "del draw\n",
    "img2.save(\"img2.png\", \"PNG\")\n",
    "\n",
    "# mkdir\n",
    "!mkdir {outdir}\n",
    "\n",
    "# Begin slicing\n",
    "print \"Slicing..\"\n",
    "for x in xrange(0,width2 - slicex + hopx, hopx):\n",
    "    for y in xrange(0,height2 - slicey + hopy, hopy):\n",
    "        bbox = (x, y, x+ slicex, y + slicey)\n",
    "        slice = img2.crop(bbox)\n",
    "        slice.save(os.path.join(outdir, prefix + \"_\" + str(x) + \"_\" + str(y) + \".png\"))\n",
    "print \"Done.\"\n",
    "\n"
   ]
  }
 ],
 "metadata": {
  "kernelspec": {
   "display_name": "Python 2",
   "language": "python",
   "name": "python2"
  },
  "language_info": {
   "codemirror_mode": {
    "name": "ipython",
    "version": 2
   },
   "file_extension": ".py",
   "mimetype": "text/x-python",
   "name": "python",
   "nbconvert_exporter": "python",
   "pygments_lexer": "ipython2",
   "version": "2.7.6"
  }
 },
 "nbformat": 4,
 "nbformat_minor": 0
}
